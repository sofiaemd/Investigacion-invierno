{
 "cells": [
  {
   "cell_type": "code",
   "execution_count": 5,
   "metadata": {},
   "outputs": [
    {
     "name": "stdout",
     "output_type": "stream",
     "text": [
      "cíclicos\n",
      "hello\n",
      "chau\n",
      "[(Symmetric group of order 2! as a permutation group, 2), (Symmetric group of order 3! as a permutation group, 3), (Symmetric group of order 4! as a permutation group, 4), (Symmetric group of order 5! as a permutation group, 5), (Symmetric group of order 6! as a permutation group, 6), (Symmetric group of order 7! as a permutation group, 7), (Symmetric group of order 8! as a permutation group, 8), (Symmetric group of order 9! as a permutation group, 9), (Symmetric group of order 10! as a permutation group, 10), (Symmetric group of order 11! as a permutation group, 11), (Symmetric group of order 12! as a permutation group, 12), (Symmetric group of order 13! as a permutation group, 13), (Alternating group of order 2!/2 as a permutation group, 2), (Alternating group of order 3!/2 as a permutation group, 3), (Alternating group of order 4!/2 as a permutation group, 4), (Alternating group of order 5!/2 as a permutation group, 5), (Alternating group of order 6!/2 as a permutation group, 6), (Alternating group of order 7!/2 as a permutation group, 7), (Alternating group of order 8!/2 as a permutation group, 8), (Alternating group of order 9!/2 as a permutation group, 9), (Alternating group of order 10!/2 as a permutation group, 10), (Alternating group of order 11!/2 as a permutation group, 11), (Alternating group of order 12!/2 as a permutation group, 12), (Alternating group of order 13!/2 as a permutation group, 13), (Dihedral group of order 4 as a permutation group, 2), (Dihedral group of order 6 as a permutation group, 3), (Dihedral group of order 8 as a permutation group, 4), (Dihedral group of order 10 as a permutation group, 5), (Dihedral group of order 12 as a permutation group, 6), (Dihedral group of order 14 as a permutation group, 7), (Dihedral group of order 16 as a permutation group, 8), (Dihedral group of order 18 as a permutation group, 9), (Dihedral group of order 20 as a permutation group, 10), (Dihedral group of order 22 as a permutation group, 11), (Dihedral group of order 24 as a permutation group, 12), (Dihedral group of order 26 as a permutation group, 13), (Dihedral group of order 28 as a permutation group, 14), (Dihedral group of order 30 as a permutation group, 15), (Dihedral group of order 32 as a permutation group, 16), (Dihedral group of order 34 as a permutation group, 17), (Dihedral group of order 36 as a permutation group, 18), (Dihedral group of order 38 as a permutation group, 19), (Dihedral group of order 40 as a permutation group, 20), (Cyclic group of order 2 as a permutation group, 2), (Cyclic group of order 3 as a permutation group, 3), (Cyclic group of order 4 as a permutation group, 4), (Cyclic group of order 5 as a permutation group, 5), (Cyclic group of order 6 as a permutation group, 6), (Cyclic group of order 7 as a permutation group, 7), (Cyclic group of order 8 as a permutation group, 8), (Cyclic group of order 9 as a permutation group, 9), (Cyclic group of order 10 as a permutation group, 10), (Cyclic group of order 11 as a permutation group, 11), (Cyclic group of order 12 as a permutation group, 12), (Cyclic group of order 13 as a permutation group, 13), (Cyclic group of order 14 as a permutation group, 14), (Cyclic group of order 15 as a permutation group, 15), (Cyclic group of order 16 as a permutation group, 16), (Cyclic group of order 17 as a permutation group, 17), (Cyclic group of order 18 as a permutation group, 18), (Cyclic group of order 19 as a permutation group, 19), (Cyclic group of order 20 as a permutation group, 20), (Diyclic group of order 8 as a permutation group, 8), (Diyclic group of order 12 as a permutation group, 7), (Diyclic group of order 16 as a permutation group, 16), (Diyclic group of order 20 as a permutation group, 9), (Diyclic group of order 24 as a permutation group, 11), (Diyclic group of order 28 as a permutation group, 11), (The semidihedral group of order 16, 8), (The semidihedral group of order 32, 16), (The split metacyclic group of order 2 ^ 4, 8), (The split metacyclic group of order 2 ^ 5, 16), (Mathieu group of degree 9 and order 72 as a permutation group, 9), (Mathieu group of degree 10 and order 720 as a permutation group, 10), (Mathieu group of degree 11 and order 7920 as a permutation group, 11), (Mathieu group of degree 12 and order 95040 as a permutation group, 12)]\n"
     ]
    },
    {
     "data": {
      "text/plain": [
       "76"
      ]
     },
     "execution_count": 5,
     "metadata": {},
     "output_type": "execute_result"
    }
   ],
   "source": [
    "#El output es una lista de tuplas que contienen un grupo y la dimensión del espacio en el que actúan\n",
    "def generar_grupos(card_max, dim_max):\n",
    "    lista_grupos=[]\n",
    "    \n",
    "    #Grupos S_n\n",
    "    continuar=True\n",
    "    i=2\n",
    "    while continuar:\n",
    "        grupo=SymmetricGroup(i)\n",
    "        if grupo.cardinality()<=card_max and i<=dim_max:\n",
    "            lista_grupos.append((grupo,i))\n",
    "        else:\n",
    "            continuar=False\n",
    "        i+=1\n",
    "        \n",
    "    #Grupos alternantes\n",
    "    continuar=True\n",
    "    i=2\n",
    "    while continuar:\n",
    "        grupo=AlternatingGroup(i)\n",
    "        if grupo.cardinality()<=card_max and i<=dim_max:\n",
    "            lista_grupos.append((grupo,i))\n",
    "        else:\n",
    "            continuar=False\n",
    "        i+=1\n",
    "    \n",
    "    #Grupos dihedrales\n",
    "    continuar=True\n",
    "    i=2\n",
    "    while continuar:\n",
    "        grupo=DihedralGroup(i)\n",
    "        if grupo.cardinality()<=card_max and i<=dim_max:\n",
    "            lista_grupos.append((grupo,i))\n",
    "        else:\n",
    "            continuar=False\n",
    "        i+=1\n",
    "    \n",
    "    #Grupos cíclicos\n",
    "    continuar=True\n",
    "    i=2\n",
    "    while continuar:\n",
    "        grupo=CyclicPermutationGroup(i)\n",
    "        if grupo.cardinality()<=card_max and i<=dim_max:\n",
    "            lista_grupos.append((grupo,i))\n",
    "        else:\n",
    "            continuar=False\n",
    "        i+=1\n",
    "    print(\"cíclicos\")\n",
    "    \n",
    "    #Grupos Dicíclicos\n",
    "    continuar=True\n",
    "    i=2\n",
    "    while continuar:\n",
    "        grupo=DiCyclicGroup(i)\n",
    "        if grupo.cardinality()<=card_max and grupo.degree()<=dim_max:\n",
    "            lista_grupos.append((grupo,grupo.degree()))\n",
    "        else:\n",
    "            continuar=False\n",
    "        i+=1\n",
    "        \n",
    "    #Grupos semi dihedrales\n",
    "    continuar=True\n",
    "    i=4\n",
    "    while continuar:\n",
    "        grupo=SemidihedralGroup(i)\n",
    "        if grupo.cardinality()<=card_max and grupo.degree()<=dim_max:\n",
    "            lista_grupos.append((grupo,grupo.degree()))\n",
    "        else:\n",
    "            continuar=False\n",
    "        i+=1\n",
    "    print('hello')\n",
    "        \n",
    "    #Split Metacyclic Group\n",
    "    continuar = True\n",
    "    i=2\n",
    "    j=4\n",
    "    while continuar:\n",
    "        if i.is_prime():\n",
    "            grupo=SplitMetacyclicGroup(i,j)\n",
    "            if grupo.cardinality()<=card_max and grupo.degree()<=dim_max:\n",
    "                lista_grupos.append((grupo,grupo.degree()))\n",
    "                j+=1\n",
    "            elif j==4:\n",
    "                continuar=False\n",
    "            else:\n",
    "                i+=1\n",
    "                j=4\n",
    "        else:\n",
    "            i+=1\n",
    "    print('chau')\n",
    "    \n",
    "    #Mathieu Groups\n",
    "    for i in [9,10,11,12,21,22,23]:\n",
    "        grupo=MathieuGroup(i)\n",
    "        if grupo.cardinality()<=card_max and i<=dim_max:\n",
    "            lista_grupos.append((grupo,grupo.degree()))\n",
    "    \n",
    "    return lista_grupos\n",
    "\n",
    "lista=generar_grupos(10000000000, 20)\n",
    "print(lista)\n",
    "len(lista)"
   ]
  },
  {
   "cell_type": "code",
   "execution_count": 51,
   "metadata": {},
   "outputs": [
    {
     "name": "stdout",
     "output_type": "stream",
     "text": [
      "Mathieu group of degree 22 and order 443520 as a permutation group\n",
      "22\n",
      "[(1,2,3,4,5,6,7,8,9,10,11)(12,13,14,15,16,17,18,19,20,21,22), (1,4,5,9,3)(2,8,10,7,6)(12,15,16,20,14)(13,19,21,18,17), (1,21)(2,10,8,6)(3,13,4,17)(5,19,9,18)(11,22)(12,14,16,20)]\n"
     ]
    }
   ],
   "source": [
    "grupo=MathieuGroup(22)\n",
    "print(grupo)\n",
    "print(grupo.degree())\n",
    "print(grupo.gens())"
   ]
  }
 ],
 "metadata": {
  "kernelspec": {
   "display_name": "SageMath 9.3",
   "language": "sage",
   "name": "sagemath"
  },
  "language_info": {
   "codemirror_mode": {
    "name": "ipython",
    "version": 3
   },
   "file_extension": ".py",
   "mimetype": "text/x-python",
   "name": "python",
   "nbconvert_exporter": "python",
   "pygments_lexer": "ipython3",
   "version": "3.7.10"
  }
 },
 "nbformat": 4,
 "nbformat_minor": 4
}
